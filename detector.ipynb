{
 "cells": [
  {
   "cell_type": "code",
   "execution_count": 4,
   "metadata": {},
   "outputs": [
    {
     "name": "stdout",
     "output_type": "stream",
     "text": [
      "Defaulting to user installation because normal site-packages is not writeable\n",
      "Collecting python-dotenv\n",
      "  Downloading python_dotenv-1.0.1-py3-none-any.whl.metadata (23 kB)\n",
      "Downloading python_dotenv-1.0.1-py3-none-any.whl (19 kB)\n",
      "Installing collected packages: python-dotenv\n",
      "Successfully installed python-dotenv-1.0.1\n",
      "Note: you may need to restart the kernel to use updated packages.\n"
     ]
    }
   ],
   "source": [
    "# %pip install -Uqq fastai\n",
    "# %pip install -Uqq ipywidgets==7.7.2\n",
    "%pip install python-dotenv"
   ]
  },
  {
   "cell_type": "code",
   "execution_count": 16,
   "metadata": {},
   "outputs": [],
   "source": [
    "import os\n",
    "from fastai.vision.all import *\n",
    "from ipywidgets import *\n",
    "from dotenv import dotenv_values"
   ]
  },
  {
   "cell_type": "code",
   "execution_count": 24,
   "metadata": {},
   "outputs": [],
   "source": [
    "config = dotenv_values(\".env\")"
   ]
  },
  {
   "cell_type": "code",
   "execution_count": 25,
   "metadata": {},
   "outputs": [
    {
     "data": {
      "text/plain": [
       "(#19556) [Path('/home/imtharun/Documents/coding/GitHub/detector/face_age/068/7783.png'),Path('/home/imtharun/Documents/coding/GitHub/detector/face_age/068/2173.png'),Path('/home/imtharun/Documents/coding/GitHub/detector/face_age/068/7660.png'),Path('/home/imtharun/Documents/coding/GitHub/detector/face_age/068/5889.png'),Path('/home/imtharun/Documents/coding/GitHub/detector/face_age/068/7490.png'),Path('/home/imtharun/Documents/coding/GitHub/detector/face_age/068/9056.png'),Path('/home/imtharun/Documents/coding/GitHub/detector/face_age/068/4189.png'),Path('/home/imtharun/Documents/coding/GitHub/detector/face_age/068/2922.png'),Path('/home/imtharun/Documents/coding/GitHub/detector/face_age/068/1222.png'),Path('/home/imtharun/Documents/coding/GitHub/detector/face_age/068/6319.png')...]"
      ]
     },
     "execution_count": 25,
     "metadata": {},
     "output_type": "execute_result"
    }
   ],
   "source": [
    "dataset_path = config['DATASET_PATH']\n",
    "dataset_path\n",
    "path = Path(dataset_path)\n",
    "images = get_image_files(path)\n",
    "images"
   ]
  },
  {
   "cell_type": "code",
   "execution_count": 26,
   "metadata": {},
   "outputs": [],
   "source": [
    "# count = 0\n",
    "# for image in images:\n",
    "#     if '001' in str(image):\n",
    "#         count += 1\n",
    "# count\n",
    "\n",
    "def is_baby_or_senior(image):\n",
    "    age = int(image.parent.name)\n",
    "    return age < 15 or age > 59\n",
    "\n",
    "# for image in images:\n",
    "#     if int(image.parent.name) == 70:\n",
    "#         res = is_baby_or_senior(image)\n",
    "#         print(image, res)"
   ]
  },
  {
   "cell_type": "code",
   "execution_count": 30,
   "metadata": {},
   "outputs": [],
   "source": [
    "dls = ImageDataLoaders.from_path_func(path, images, valid_pct=0.2, seed=42, label_func=is_baby_or_senior, item_tfms=Resize(224))\n",
    "learn = cnn_learner(dls, resnet34, metrics=error_rate)\n",
    "learn.fine_tune(4)"
   ]
  },
  {
   "cell_type": "code",
   "execution_count": null,
   "metadata": {},
   "outputs": [],
   "source": [
    "learn.show_results()"
   ]
  }
 ],
 "metadata": {
  "kernelspec": {
   "display_name": "Python 3",
   "language": "python",
   "name": "python3"
  },
  "language_info": {
   "codemirror_mode": {
    "name": "ipython",
    "version": 3
   },
   "file_extension": ".py",
   "mimetype": "text/x-python",
   "name": "python",
   "nbconvert_exporter": "python",
   "pygments_lexer": "ipython3",
   "version": "3.10.12"
  }
 },
 "nbformat": 4,
 "nbformat_minor": 2
}
